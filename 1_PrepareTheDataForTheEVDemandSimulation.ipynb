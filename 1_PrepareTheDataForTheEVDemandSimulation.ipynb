{
 "cells": [
  {
   "cell_type": "code",
   "execution_count": 1,
   "id": "round-lodging",
   "metadata": {},
   "outputs": [
    {
     "name": "stderr",
     "output_type": "stream",
     "text": [
      "/mnt/sdb1/gauthier/venv/lib/python3.8/site-packages/geopandas/_compat.py:84: UserWarning: The Shapely GEOS version (3.8.0-CAPI-1.13.1 ) is incompatible with the GEOS version PyGEOS was compiled with (3.9.0-CAPI-1.16.2). Conversions between both will be slow.\n",
      "  warnings.warn(\n"
     ]
    }
   ],
   "source": [
    "import dask.dataframe as dd\n",
    "import pandas as pd\n",
    "import numpy as np\n",
    "import matplotlib.pyplot as plt\n",
    "import dask\n",
    "import datetime as dt\n",
    "import multiprocessing\n",
    "import folium\n",
    "import branca\n",
    "import branca.colormap as cm\n",
    "import pylab\n",
    "import random as rd\n",
    "import geopandas\n",
    "\n",
    "from shapely.geometry import Point, Polygon, MultiPolygon\n",
    "from tqdm.notebook import tqdm\n",
    "from collections import Counter\n",
    "from folium.plugins import HeatMap\n",
    "from folium.features import DivIcon\n",
    "\n",
    "# Single machine progress bar\n",
    "from dask.diagnostics import ProgressBar\n",
    "\n",
    "pd.options.display.precision = 2\n",
    "#pd.set_option('display.max_columns', None)\n",
    "nbRowsToDisplay = 250\n",
    "pd.options.display.min_rows = nbRowsToDisplay\n",
    "pd.options.display.max_rows = nbRowsToDisplay"
   ]
  },
  {
   "cell_type": "code",
   "execution_count": 2,
   "id": "compatible-pharmacy",
   "metadata": {},
   "outputs": [],
   "source": [
    "# Vectorized haversine function to calculate distances\n",
    "#https://stackoverflow.com/questions/40452759/pandas-latitude-longitude-to-distance-between-successive-rows\n",
    "def haversine(lat1, lon1, lat2, lon2, to_radians=True, earth_radius=6371):\n",
    "    \"\"\"\n",
    "    slightly modified version: of http://stackoverflow.com/a/29546836/2901002\n",
    "\n",
    "    Calculate the great circle distance between two points\n",
    "    on the earth (specified in decimal degrees or in radians)\n",
    "\n",
    "    All (lat, lon) coordinates must have numeric dtypes and be of equal length.\n",
    "\n",
    "    \"\"\"\n",
    "    if to_radians:\n",
    "        lat1, lon1, lat2, lon2 = np.radians([lat1, lon1, lat2, lon2])\n",
    "\n",
    "    a = np.sin((lat2-lat1)/2.0)**2 + \\\n",
    "        np.cos(lat1) * np.cos(lat2) * np.sin((lon2-lon1)/2.0)**2\n",
    "\n",
    "    return earth_radius * 2 * np.arcsin(np.sqrt(a))"
   ]
  },
  {
   "cell_type": "code",
   "execution_count": 3,
   "id": "hindu-buffalo",
   "metadata": {},
   "outputs": [],
   "source": [
    "def plotHistogram(counts,labels,tit,xlab,ylab):\n",
    "    fig = pylab.figure(figsize=(20,10))    \n",
    "    ax = fig.add_subplot(1,1,1)\n",
    "    counts=counts/np.sum(counts)\n",
    "    ax.bar(labels, counts, align='center')\n",
    "    ax.set_title(tit, fontsize=18)\n",
    "    ax.set_xlabel(xlab, fontsize=18)\n",
    "    ax.set_ylabel(ylab, fontsize=18)\n",
    "    ax.grid(True)\n",
    "    ax.set_axisbelow(True)"
   ]
  },
  {
   "cell_type": "code",
   "execution_count": 4,
   "id": "determined-wisdom",
   "metadata": {},
   "outputs": [],
   "source": [
    "fileDirectory = '/mnt/sdb1/gauthier/jupyter/'"
   ]
  },
  {
   "cell_type": "markdown",
   "id": "studied-seeking",
   "metadata": {},
   "source": [
    "# Prepare the dataset"
   ]
  },
  {
   "cell_type": "markdown",
   "id": "wanted-nigeria",
   "metadata": {},
   "source": [
    "## Add the attributes from the initial dataset to the modeled EV demands"
   ]
  },
  {
   "cell_type": "code",
   "execution_count": 10,
   "id": "comprehensive-russia",
   "metadata": {},
   "outputs": [
    {
     "name": "stdout",
     "output_type": "stream",
     "text": [
      "Trips are ordered in the same way: True\n"
     ]
    }
   ],
   "source": [
    "#Load the results of the Monte Carlo simulation\n",
    "nbIter=150000\n",
    "df_results = pd.read_pickle(fileDirectory+'data/Simulation/results_' + str(nbIter) + 'Iterations')\n",
    "\n",
    "#Load the initial dataset\n",
    "df = pd.read_pickle(fileDirectory+\"data/DataModeling_Iteration4/tripStartEndPoints_Preparation2.pkl\")\n",
    "df = df.reset_index()\n",
    "\n",
    "#Check that the 2 datasets are ordered exactly the same\n",
    "print(\"Trips are ordered in the same way:\",(df.gpsRecordedAtCETEnd==df_results.gpsRecordedAtCET_endTrip).all())"
   ]
  },
  {
   "cell_type": "code",
   "execution_count": 11,
   "id": "convinced-influence",
   "metadata": {},
   "outputs": [],
   "source": [
    "#Add attributes to the estimated demand dataset\n",
    "df_results['carId']=df.carId\n",
    "df_results['tripId']=df.tripId\n",
    "df_results['minutesBeforeNextTrip']=df.minutesBetweenTrips.shift(-1)\n",
    "df_results['lastTripFromCar']=df.newCarId.shift(-1).fillna(True)\n",
    "\n",
    "#Assign 0 for the minutes before next trip for each last car\n",
    "df_results['minutesBeforeNextTrip']=df_results.minutesBeforeNextTrip*~df_results.lastTripFromCar\n",
    "\n",
    "#Compute the mean demand by location considering adjusting factor and percentage of electric cars\n",
    "df_results['demand'] = df_results.sumDemand/nbIter\n",
    "\n",
    "#Drop the unnecessary columns\n",
    "df_results=df_results.drop(columns=['sumDemand','sumSquaredDemand','lastTripFromCar'])\n",
    "\n",
    "#Save the results\n",
    "#df_results.to_pickle(fileDirectory+'data/Simulation/results_' + str(nbIter) + 'iterations_allData')"
   ]
  },
  {
   "cell_type": "markdown",
   "id": "suffering-commerce",
   "metadata": {},
   "source": [
    "## Keep the points in Copenhagen"
   ]
  },
  {
   "cell_type": "code",
   "execution_count": 12,
   "id": "accompanied-visitor",
   "metadata": {},
   "outputs": [
    {
     "name": "stdout",
     "output_type": "stream",
     "text": [
      "CPU times: user 1min 22s, sys: 404 ms, total: 1min 23s\n",
      "Wall time: 1min 23s\n",
      "% of removed points: 33.1\n"
     ]
    }
   ],
   "source": [
    "#Read the polygon of Copenhagen\n",
    "copenhagenMap = geopandas.read_file(fileDirectory+\"data/Simulation/Copenhagenmap.geojson\")\n",
    "\n",
    "#Create a new Copenhagen polygon by removing 360° to the longitude \n",
    "long, lat = copenhagenMap['geometry'][0].exterior.coords.xy\n",
    "long = np.array(long) - 360 #Longitude is defined modulo 360 degrees \n",
    "copenhagenMap = Polygon(zip(list(long),list(lat)))\n",
    "\n",
    "#Assign a boolean True to points that are in Copenhagen\n",
    "%time df_results[\"isInCph\"] = df_results.apply(lambda row: copenhagenMap.contains(\\\n",
    "    Point(row[\"endLongitude\"], row[\"endLatitude\"])), axis = 1)\n",
    "\n",
    "#Keep the points in Copenhagen\n",
    "df_subresults = df_results[df_results.isInCph==1].copy()\n",
    "\n",
    "#Drop the unnecessary columns\n",
    "df_subresults=df_subresults.drop(columns=['isInCph'])\n",
    "\n",
    "print(\"% of removed points:\", round((len(df_results) - len(df_subresults))/len(df_results)*100,2))\n",
    "\n",
    "#Save the dataframe\n",
    "#df_subresults.to_pickle(fileDirectory+'data/Simulation/results_' + str(nbIter) + 'iterations_allDataInCph')"
   ]
  },
  {
   "cell_type": "markdown",
   "id": "common-bradley",
   "metadata": {},
   "source": [
    "## Only select the data in September"
   ]
  },
  {
   "cell_type": "code",
   "execution_count": 13,
   "id": "coupled-obligation",
   "metadata": {},
   "outputs": [
    {
     "name": "stdout",
     "output_type": "stream",
     "text": [
      "% of removed points: 79.02\n"
     ]
    }
   ],
   "source": [
    "df_Sept = df_subresults[df_subresults.gpsRecordedAtCET_endTrip < dt.datetime(2019,10,1)]\n",
    "\n",
    "print(\"% of removed points:\", round((len(df_results) - len(df_Sept))/len(df_results)*100,2))\n",
    "\n",
    "#df_Sept.to_pickle(fileDirectory+'data/Simulation/results_' + str(nbIter) + 'iterations_Sept')"
   ]
  },
  {
   "cell_type": "markdown",
   "id": "wooden-switch",
   "metadata": {},
   "source": [
    "## Data in October"
   ]
  },
  {
   "cell_type": "code",
   "execution_count": 7,
   "id": "swedish-composite",
   "metadata": {},
   "outputs": [
    {
     "name": "stdout",
     "output_type": "stream",
     "text": [
      "% of removed points: 76.11\n"
     ]
    }
   ],
   "source": [
    "df_Oct = df_subresults[(df_subresults.gpsRecordedAtCET_endTrip > dt.datetime(2019,9,30)) &\n",
    "                      (df_subresults.gpsRecordedAtCET_endTrip < dt.datetime(2019,11,1))]\n",
    "\n",
    "print(\"% of removed points:\", round((len(df_results) - len(df_Oct))/len(df_results)*100,2))\n",
    "\n",
    "#df_Oct.to_pickle(fileDirectory+'data/Simulation/results_' + str(nbIter) + 'iterations_Oct')"
   ]
  },
  {
   "cell_type": "markdown",
   "id": "comic-dialogue",
   "metadata": {},
   "source": [
    "## Data in November"
   ]
  },
  {
   "cell_type": "code",
   "execution_count": 8,
   "id": "inner-monte",
   "metadata": {},
   "outputs": [
    {
     "name": "stdout",
     "output_type": "stream",
     "text": [
      "% of removed points: 76.99\n"
     ]
    }
   ],
   "source": [
    "df_Nov = df_subresults[(df_subresults.gpsRecordedAtCET_endTrip > dt.datetime(2019,10,31)) &\n",
    "                      (df_subresults.gpsRecordedAtCET_endTrip < dt.datetime(2019,12,1))]\n",
    "\n",
    "print(\"% of removed points:\", round((len(df_results) - len(df_Nov))/len(df_results)*100,2))\n",
    "\n",
    "#df_Nov.to_pickle(fileDirectory+'data/Simulation/results_' + str(nbIter) + 'iterations_Nov')"
   ]
  },
  {
   "cell_type": "markdown",
   "id": "empirical-evaluation",
   "metadata": {},
   "source": [
    "# Compute the demand by hour considering a 11kWh charge "
   ]
  },
  {
   "cell_type": "code",
   "execution_count": 14,
   "id": "metallic-jewel",
   "metadata": {},
   "outputs": [],
   "source": [
    "nbIter=150000\n",
    "df = pd.read_pickle(fileDirectory+'data/Simulation/results_' + str(nbIter) + 'iterations_Sept')\n",
    "\n",
    "#No adjusting factor, neither penetration rate is used \n",
    "#The demand corresponds to a 10% penetration rate in real life\n",
    "\n",
    "#Compute the start and end charge assuming a power of 11kWh\n",
    "minutesByHour = 60\n",
    "df['startCharge'] = df['gpsRecordedAtCET_endTrip']\n",
    "df['endCharge'] = df['startCharge'] + pd.to_timedelta(df.demand/11*minutesByHour,unit='m') \n",
    "\n",
    "#Calculate the energy to charge in each hour \n",
    "for hour in range(24):\n",
    "    #When start date and end date are the same\n",
    "    df['demandAt' + str(hour)] = (df.endCharge.dt.date==df.startCharge.dt.date)*\\\n",
    "        11/minutesByHour*(minutesByHour*((df.endCharge.dt.hour>hour)&(hour>df.startCharge.dt.hour))\\\n",
    "        +((df.endCharge-df.startCharge).dt.total_seconds()/60)*((df.endCharge.dt.hour==hour)&(hour==df.startCharge.dt.hour))\\\n",
    "        +(minutesByHour-(df.startCharge.dt.minute+df.startCharge.dt.second/60))*((df.endCharge.dt.hour>hour)&(hour==df.startCharge.dt.hour))\\\n",
    "        +(df.endCharge.dt.minute+df.endCharge.dt.second/60)*((df.endCharge.dt.hour==hour)&(hour>df.startCharge.dt.hour)))\n",
    "\n",
    "    #When start date and end date differs\n",
    "    #Add the demand for slots in the first day (the start day) and in the last day (the end day)\n",
    "    df['demandAt' + str(hour)] += (df.endCharge.dt.date!=df.startCharge.dt.date)*\\\n",
    "        11/minutesByHour*(minutesByHour*(hour>df.startCharge.dt.hour)+ #Demand for the time slots after start date\n",
    "        minutesByHour*(hour<df.endCharge.dt.hour)+ #Demand for the time slots before end date\n",
    "        (minutesByHour-(df.startCharge.dt.minute+df.startCharge.dt.second/60))*(hour==df.startCharge.dt.hour)\\\n",
    "        +(df.endCharge.dt.minute+df.endCharge.dt.second/60)*(df.endCharge.dt.hour==hour))\n",
    "\n",
    "    #Add the demand for the slots in days between start and end days \n",
    "    df['demandAt' + str(hour)] += (df.endCharge.dt.date != df.startCharge.dt.date) * 11 *\\\n",
    "        ((df.endCharge.dt.date - df.startCharge.dt.date).dt.days-1)\n",
    "\n",
    "#df.to_pickle(fileDirectory+'data/Simulation/demandByHour_' + str(nbIter) + 'iterations_Sept_penetrationRate=10%')"
   ]
  },
  {
   "cell_type": "markdown",
   "id": "cross-rates",
   "metadata": {},
   "source": [
    "# Compute the distance to the charging stations"
   ]
  },
  {
   "cell_type": "code",
   "execution_count": 42,
   "id": "aboriginal-mitchell",
   "metadata": {},
   "outputs": [],
   "source": [
    "df_chargingStations=pd.read_pickle(fileDirectory+'data/Simulation/chargingStations_supply')\n",
    "\n",
    "#For each end trip, get the distance from the charging stations\n",
    "\n",
    "#Get the distance from all charging stations\n",
    "for chargingStationNumero in range(1,len(df_chargingStations)+1): \n",
    "    chargingStationLat=np.full(\n",
    "      shape=len(df),\n",
    "      fill_value=df_chargingStations.loc[chargingStationNumero,:].latitude,\n",
    "      dtype=np.float\n",
    "    )\n",
    "    chargingStationLong=np.full(\n",
    "      shape=len(df),\n",
    "      fill_value=df_chargingStations.loc[chargingStationNumero,:].longitude,\n",
    "      dtype=np.float\n",
    "    )\n",
    "    \n",
    "    #Get the distance from the charging station \n",
    "    df['distanceInKmFromCS'+str(chargingStationNumero)]= haversine(\n",
    "        df.endLatitude, df.endLongitude, chargingStationLat, chargingStationLong, \n",
    "                  to_radians=True, earth_radius=6371)\n",
    "\n",
    "#df.to_pickle(fileDirectory+'data/Simulation/DistanceFromCSAndDemandByHour_150000iterations_Sept_penetrationRate=10%')"
   ]
  },
  {
   "cell_type": "markdown",
   "id": "suitable-steel",
   "metadata": {},
   "source": [
    "# Parse the data of the energy supply"
   ]
  },
  {
   "cell_type": "markdown",
   "id": "hydraulic-omaha",
   "metadata": {},
   "source": [
    "## First \"naive\" approach"
   ]
  },
  {
   "cell_type": "code",
   "execution_count": null,
   "id": "manual-concert",
   "metadata": {},
   "outputs": [],
   "source": [
    "#Number of outlets by location \n",
    "outletsByLocation_str = \"3 5 7 4 4 6 6 4 3 4 2 8 4 2 2 6 6 6 4 2 6 6 8 4 6 4 4 6 4 3 6 4 4 2 4 8 2 6 4 2 4 8 4 4 2 4 4 4 6 6 2 6 2 4 6 2 2 6 2 2 3 2 4 2 4 4 4 12 4 4 4 6 6 2 6 4 3 43 4 5 8 2 4 2 2 4 4 8 6 6 4 4 6 6 4 6 4 4 3 6\"\n",
    "outletsByLocation =  [int(s) for s in outletsByLocation_str.split() if s.isdigit()]\n",
    "print(\"Mean number of outlets by location: \",np.mean(outletsByLocation))"
   ]
  },
  {
   "cell_type": "code",
   "execution_count": null,
   "id": "reverse-module",
   "metadata": {},
   "outputs": [],
   "source": [
    "#Define the input parameters\n",
    "nbDays=len(df.gpsRecordedAtCET_endTrip.dt.date.unique())\n",
    "nbHoursByDay = 24\n",
    "utilisationPercentage=0.09"
   ]
  },
  {
   "cell_type": "code",
   "execution_count": null,
   "id": "desperate-island",
   "metadata": {},
   "outputs": [],
   "source": [
    "#Get the power provided by the public charging stations\n",
    "chargingStationsPower= np.array([3.7 ,11,22,24,43,50])\n",
    "nbChargingStationsByPower = np.array([2,148,30,1,11,30])\n",
    "nbStations = np.sum(nbChargingStationsByPower)\n",
    "\n",
    "nbChargingOutletsByChargingStation_11kW_str = \"1 6 4 6 4 4 6 6 4 2 4 4 2 6 8 2 2 2 4 4 6 6 2 4 4 6 6 6 8 4 6 4 4 4 12 4 4 4 6 4 4 2 6 2 8 4 4 6 2 4 6 4 6 6 4 4 6 6 4 4 4 4 6 6 4 4 4 8 4 4 4 6 2 2 6 4 2 6 6 2 4 6 4 6 6 6 6 4 4 4 4 4 2 2 4 4 2 2 2 4 2 4 6 4 2 4 4 4 6 4 4 6 4 6 2 6 2 2 4\"\n",
    "nbChargingOutletsByChargingStation_11kW = [int(s) for s in nbChargingOutletsByChargingStation_11kW_str.split() if s.isdigit()]\n",
    "print(\"Mean number of outlets by location for 11kW charging stations: \",np.mean(nbChargingOutletsByChargingStation_11kW))\n",
    "\n",
    "nbChargingOutletsByChargingStation_22kW_str = \"2 4 4 2 2 2 4 1 12 4 2 4 6 4 4 8 8 8 16 8 4 2 8 2 2 2 4 2 1 1 2 12\"\n",
    "nbChargingOutletsByChargingStation_22kW = [int(s) for s in nbChargingOutletsByChargingStation_22kW_str.split() if s.isdigit()]\n",
    "print(\"Mean number of outlets by location for 22kW charging stations: \",np.mean(nbChargingOutletsByChargingStation_22kW))\n",
    "\n",
    "avgOutletNbByChargingPower = np.array([3, np.mean(nbChargingOutletsByChargingStation_11kW),\n",
    "        np.mean(nbChargingOutletsByChargingStation_22kW),1,1,1])\n",
    "\n",
    "print(\"Nb outlets: \",np.sum(nbChargingStationsByPower*avgOutletNbByChargingPower))\n",
    "\n",
    "print(\" \")\n",
    "print(\"Power provided by outlet power and by hour considering a full utilisation (7/7, 24/24): \")\n",
    "for i in range(len(chargingStationsPower)):\n",
    "    print(\"   For outlet of\",chargingStationsPower[i],\"kWh:\",\n",
    "          int(chargingStationsPower[i]*nbChargingStationsByPower[i]*avgOutletNbByChargingPower[i]))\n",
    "print(\"Total power provided by hour considering a full utilisation (7/7, 24/24): \",\n",
    "      int(np.sum(chargingStationsPower*nbChargingStationsByPower*avgOutletNbByChargingPower)))\n",
    "\n",
    "print(\" \")\n",
    "print('Total power supply in Cph for',str(nbDays),'days:' , np.sum(chargingStationsPower*nbChargingStationsByPower\\\n",
    "                    *avgOutletNbByChargingPower)*nbHoursByDay*nbDays)"
   ]
  },
  {
   "cell_type": "markdown",
   "id": "established-reply",
   "metadata": {},
   "source": [
    "## Parse data to know the charging power and outlet number by charging station using xpath"
   ]
  },
  {
   "cell_type": "code",
   "execution_count": null,
   "id": "illegal-authority",
   "metadata": {},
   "outputs": [],
   "source": [
    "#Def a function to check if a string contains a number\n",
    "def is_number(s):\n",
    "    try:\n",
    "        float(s)\n",
    "        return True\n",
    "    except ValueError:\n",
    "        return False"
   ]
  },
  {
   "cell_type": "code",
   "execution_count": null,
   "id": "careful-suggestion",
   "metadata": {},
   "outputs": [],
   "source": [
    "#Get the HTML code and build a tree from it\n",
    "URL = 'https://www.uppladdning.nu/List.aspx#DK'\n",
    "page=requests.get(URL)\n",
    "tree = html.fromstring(page.content)\n",
    "\n",
    "#Define the necessary parameters to parse the data\n",
    "cphAreas = ['Frederiksberg','Frederiksberg (Kbh K)','Frederiksberg C','København','København K','København N',\n",
    "           'København NV','København ø','København Ø','København S','København sv','København SV','København V']\n",
    "powerWhenUndefinedPower = 11\n",
    "chargingStationName = []\n",
    "nbOutlets = []\n",
    "powerOutlets = []\n",
    "areaName = []\n",
    "latitude = []\n",
    "longitude = []\n",
    "\n",
    "#From www.uppladdning.nu, parse the name, latitude, longitude, power and outlet number for each station\n",
    "\n",
    "#For all areas in Cph\n",
    "for area in cphAreas:\n",
    "    #Get the id for the charging station\n",
    "    endURL = tree.xpath('//*[@id=\"' +'DK-' + area +  '\"]/../ul/li/a/@href')\n",
    "    \n",
    "    #Get the name of the charging stations and its area\n",
    "    chargingStationName += tree.xpath('//*[@id=\"' +'DK-' + area +  '\"]/../ul/li/a/text()')\n",
    "    areaName += [area for i in range(len(endURL))]\n",
    "    \n",
    "    #For each charging station in the area\n",
    "    for url in endURL:\n",
    "        \n",
    "        #Get the HTML code and build a tree from it\n",
    "        page_charger=requests.get('https://www.uppladdning.nu/' + url)\n",
    "        tree_charger = html.fromstring(page_charger.content)\n",
    "        \n",
    "        #Get the number of chargers and the power of them for each charging stations\n",
    "        nbOutlets_it = tree_charger.xpath('//*[@id=\"div2\"]/ul/li/a/strong/text()')\n",
    "        powerOutlets_it = tree_charger.xpath('//*[@id=\"div2\"]/ul/li/a/big/strong/text()')\n",
    "\n",
    "        #Keep only the number of outlets \n",
    "        nbOutlets_it = [float(el) for string in nbOutlets_it for el in string.split() if is_number(el)]\n",
    "\n",
    "        #Keep only the power of the outlet\n",
    "        powerOutlets_it = [float(el) for string in powerOutlets_it for el in string.split() if is_number(el)]\n",
    "        \n",
    "        #Assign a power if the power is not assigned for one charging station\n",
    "        if len(nbOutlets_it)>len(powerOutlets_it):\n",
    "            powerOutlets_it.append(powerWhenUndefinedPower)\n",
    "            \n",
    "        #Get the latitudes and longitudes\n",
    "        latitude_it = tree_charger.xpath('//*[@id=\"details\"]/span[14]/text()')\n",
    "        longitude_it = tree_charger.xpath('//*[@id=\"details\"]/span[15]/text()')\n",
    "        \n",
    "        #Store the results\n",
    "        nbOutlets.append(nbOutlets_it)\n",
    "        powerOutlets.append(powerOutlets_it)\n",
    "        latitude += latitude_it\n",
    "        longitude += longitude_it"
   ]
  },
  {
   "cell_type": "code",
   "execution_count": null,
   "id": "internal-shirt",
   "metadata": {},
   "outputs": [],
   "source": [
    "#Remove part in square bracket in the charging station names and latitudes, longitudes\n",
    "chargingStationName = [re.sub(r'\\s\\[[^\\]]*\\]', r'', name) for name in chargingStationName]\n",
    "latitude = [float(re.sub(r'\\s\\[[^\\]]*\\]', r'', lat)) for lat in latitude]\n",
    "longitude = [float(re.sub(r'\\s\\[[^\\]]*\\]', r'', long)) for long in longitude]\n",
    "\n",
    "#Store the results in a dataframe\n",
    "df_chargingStations = pd.DataFrame({'areaName':areaName,'name':chargingStationName,'latitude':latitude,\n",
    "                                    'longitude':longitude,'nbOutlets':nbOutlets,'powerOutlets':powerOutlets})"
   ]
  },
  {
   "cell_type": "code",
   "execution_count": null,
   "id": "comic-spray",
   "metadata": {},
   "outputs": [],
   "source": [
    "#df_chargingStations.to_pickle(fileDirectory+\"data/Simulation/chargingStations\")"
   ]
  },
  {
   "cell_type": "code",
   "execution_count": null,
   "id": "cloudy-college",
   "metadata": {},
   "outputs": [],
   "source": [
    "#Check that each charging stations has the same number of outlets and \n",
    "#corresponding power\n",
    "#df_chargingStations.nbOutlets.apply(lambda row: len(row))==\\\n",
    "#df_chargingStations.powerOutlets.apply(lambda row: len(row))"
   ]
  },
  {
   "cell_type": "markdown",
   "id": "religious-gateway",
   "metadata": {},
   "source": [
    "# Calculate the energy supply"
   ]
  },
  {
   "cell_type": "code",
   "execution_count": 21,
   "id": "lonely-hurricane",
   "metadata": {},
   "outputs": [],
   "source": [
    "df_chargingStations = pd.read_pickle(fileDirectory+\"data/Simulation/chargingStations\")"
   ]
  },
  {
   "cell_type": "markdown",
   "id": "virgin-complexity",
   "metadata": {},
   "source": [
    "### Only keep the data in the inner center of Copenhagen"
   ]
  },
  {
   "cell_type": "code",
   "execution_count": 22,
   "id": "oriented-perfume",
   "metadata": {},
   "outputs": [
    {
     "data": {
      "text/plain": [
       "'#Only keep the data in the inner center (without residential areas)\\n\\nnbRowsBeforeFiltering = len(df_chargingStations)\\n\\n#Read the polygon of Copenhagen\\ninnerCenterCopenhagen = geopandas.read_file(\"data/Simulation/InnerCenterCopenhagen_modified.geojson\")\\n\\n#Create a new Copenhagen polygon by removing 360° to the longitude \\nlong, lat = innerCenterCopenhagen[\\'geometry\\'][0].exterior.coords.xy\\ninnerCenterCopenhagen = Polygon(zip(list(long),list(lat)))\\n\\n#Assign a boolean True to points that are in Copenhagen\\n%time df_chargingStations[\"isInPolygon\"] = df_chargingStations.apply(lambda row: innerCenterCopenhagen.contains(    Point(row[\"longitude\"], row[\"latitude\"])), axis = 1)\\n\\n#Keep the points in Copenhagen\\ndf_chargingStations = df_chargingStations[df_chargingStations.isInPolygon==1]\\ndf_chargingStations=df_chargingStations.drop(columns=\\'isInPolygon\\')\\n\\nprint(\"% of kept charging stations:\",np.floor(100*len(df_chargingStations)/nbRowsBeforeFiltering))'"
      ]
     },
     "execution_count": 22,
     "metadata": {},
     "output_type": "execute_result"
    }
   ],
   "source": [
    "\"\"\"#Only keep the data in the inner center (without residential areas)\n",
    "\n",
    "nbRowsBeforeFiltering = len(df_chargingStations)\n",
    "\n",
    "#Read the polygon of Copenhagen\n",
    "innerCenterCopenhagen = geopandas.read_file(\"data/Simulation/InnerCenterCopenhagen_modified.geojson\")\n",
    "\n",
    "#Create a new Copenhagen polygon by removing 360° to the longitude \n",
    "long, lat = innerCenterCopenhagen['geometry'][0].exterior.coords.xy\n",
    "innerCenterCopenhagen = Polygon(zip(list(long),list(lat)))\n",
    "\n",
    "#Assign a boolean True to points that are in Copenhagen\n",
    "%time df_chargingStations[\"isInPolygon\"] = df_chargingStations.apply(lambda row: innerCenterCopenhagen.contains(\\\n",
    "    Point(row[\"longitude\"], row[\"latitude\"])), axis = 1)\n",
    "\n",
    "#Keep the points in Copenhagen\n",
    "df_chargingStations = df_chargingStations[df_chargingStations.isInPolygon==1]\n",
    "df_chargingStations=df_chargingStations.drop(columns='isInPolygon')\n",
    "\n",
    "print(\"% of kept charging stations:\",np.floor(100*len(df_chargingStations)/nbRowsBeforeFiltering))\"\"\""
   ]
  },
  {
   "cell_type": "markdown",
   "id": "ahead-botswana",
   "metadata": {},
   "source": [
    "### Compute the supply by charging station"
   ]
  },
  {
   "cell_type": "code",
   "execution_count": 23,
   "id": "fatty-mount",
   "metadata": {},
   "outputs": [],
   "source": [
    "#Remove the second 50kWh outlet for 50kWh charging station as only one 50kWh outlet can be used by cs\n",
    "for index, row in df_chargingStations.iterrows():\n",
    "    if 50 in row.powerOutlets:\n",
    "        row.nbOutlets.remove(1)\n",
    "        row.powerOutlets.remove(50)\n",
    "\n",
    "#Replace the charging stations of 22kWh by 11kWh as they cannot be used so far\n",
    "#power=22\n",
    "#df_chargingStations['powerOutlets']=df_chargingStations.apply(lambda row: \n",
    "#        [11 if p==22 else p for p in row.powerOutlets] ,axis=1)\n",
    "\n",
    "#Create new columns for each charging power and for the number of associated chargers\n",
    "outletPower = [3.7, 6, 11, 22, 24, 43, 50]\n",
    "df_chargingStations['supplyByHour'] = 0\n",
    "\n",
    "for i in range(len(outletPower)):\n",
    "    power = outletPower[i]\n",
    "    df_chargingStations[str(power) + 'kWhOutletNb'] = df_chargingStations.apply(lambda row: \n",
    "        row.nbOutlets[row.powerOutlets.index(power)] if power in row.powerOutlets else None,axis=1)\n",
    "    \n",
    "    df_chargingStations['supplyByHour'] = df_chargingStations.supplyByHour.add(\n",
    "        power * df_chargingStations[str(power) + 'kWhOutletNb'] , fill_value=0)\n",
    "    \n",
    "#The charging stations of power 50kW don't have to be multiplied by 2 as there are only one outlet \n",
    "#including 2 different types of chargers "
   ]
  },
  {
   "cell_type": "code",
   "execution_count": 24,
   "id": "meaningful-hindu",
   "metadata": {},
   "outputs": [],
   "source": [
    "#Calculate the supply by charging station\n",
    "#Define the input parameters\n",
    "nbDays=30\n",
    "nbHoursByDay = 24\n",
    "df_chargingStations['supplyByMonth']=df_chargingStations.supplyByHour*nbDays*nbHoursByDay #Supply for the whole time period\n",
    "df_chargingStations['supplyByMonthForOneHour']=df_chargingStations.supplyByHour*nbDays #Supply for the whole time period\n",
    "\n",
    "#Assume that only 70% of the supply can be used as a lot of cars can only use 7kW from 11kW and 22kW charging stations \n",
    "#df_chargingStations['supplyByMonth'] = df_chargingStations.supplyByMonth #* 0.7\n",
    "#df_chargingStations['supplyByHour'] = df_chargingStations.supplyByHour #* 0.7\n",
    "\n",
    "#Drop the charging stations with no supply\n",
    "df_chargingStations=df_chargingStations[df_chargingStations.supplyByMonth>0]\n",
    "df_chargingStations=df_chargingStations.reset_index(drop=True)\n",
    "\n",
    "#Add 1 to the index of the charging stations as chargings stations index start now at 1\n",
    "df_chargingStations.index=df_chargingStations.index+1"
   ]
  },
  {
   "cell_type": "markdown",
   "id": "induced-cholesterol",
   "metadata": {},
   "source": [
    "# Store the results"
   ]
  },
  {
   "cell_type": "code",
   "execution_count": 25,
   "id": "electric-survivor",
   "metadata": {},
   "outputs": [],
   "source": [
    "#df_chargingStations.to_pickle(fileDirectory+\"data/Simulation/chargingStations_supply\")"
   ]
  },
  {
   "cell_type": "markdown",
   "id": "fancy-qatar",
   "metadata": {},
   "source": [
    "# Check that results make sense"
   ]
  },
  {
   "cell_type": "code",
   "execution_count": 26,
   "id": "imported-adolescent",
   "metadata": {},
   "outputs": [
    {
     "data": {
      "image/png": "[encoded data removed]",
      "text/plain": [
       "<Figure size 1440x720 with 1 Axes>"
      ]
     },
     "metadata": {
      "needs_background": "light"
     },
     "output_type": "display_data"
    }
   ],
   "source": [
    "#df_chargingStations=pd.read_pickle(fileDirectory+\"data/Simulation/chargingStations_supply\")\n",
    "\n",
    "outletPower = [3.7, 6, 11, 22, 24, 43, 50]\n",
    "\n",
    "#df_chargingStations = df_chargingStations.iloc[:,:14]\n",
    "outletNbNames=[str(power)+'kWhOutletNb' for power in outletPower]\n",
    "CSNbByChargerType = df_chargingStations[outletNbNames].sum() #* outletPower\n",
    "\n",
    "plotHistogram(CSNbByChargerType.values,[str(power) for power in outletPower],\n",
    "              'Distribution of outlet power in Copenhagen','Outlet power',\n",
    "             'Percentage of outlets')"
   ]
  },
  {
   "cell_type": "code",
   "execution_count": 27,
   "id": "greenhouse-archives",
   "metadata": {},
   "outputs": [
    {
     "name": "stdout",
     "output_type": "stream",
     "text": [
      "% of energy provided by each outlet type:\n"
     ]
    },
    {
     "data": {
      "text/plain": [
       "3.7kWhOutletNb     3.0\n",
       "6kWhOutletNb       0.0\n",
       "11kWhOutletNb     76.0\n",
       "22kWhOutletNb     16.0\n",
       "24kWhOutletNb      0.0\n",
       "43kWhOutletNb      1.0\n",
       "50kWhOutletNb      1.0\n",
       "dtype: float64"
      ]
     },
     "execution_count": 27,
     "metadata": {},
     "output_type": "execute_result"
    }
   ],
   "source": [
    "print(\"% of energy provided by each outlet type:\")\n",
    "np.floor(CSNbByChargerType / CSNbByChargerType.sum() *100)"
   ]
  },
  {
   "cell_type": "code",
   "execution_count": 8,
   "id": "departmental-chuck",
   "metadata": {},
   "outputs": [
    {
     "data": {
      "image/png": "[encoded data removed]",
      "text/plain": [
       "<Figure size 1440x720 with 1 Axes>"
      ]
     },
     "metadata": {
      "needs_background": "light"
     },
     "output_type": "display_data"
    }
   ],
   "source": [
    "#Have a look at the same when the outlet of 22kWh are replaced by 11kWh outlets\n",
    "df_chargingStations=pd.read_pickle(fileDirectory+\"data/Simulation/chargingStations_supply\")\n",
    "\n",
    "outletPower = [3.7, 6, 11, 22, 24, 43, 50]\n",
    "\n",
    "#df_chargingStations = df_chargingStations.iloc[:,:14]\n",
    "outletNbNames=[str(power)+'kWhOutletNb' for power in outletPower]\n",
    "energyProducedByChargerType = df_chargingStations[outletNbNames].sum() * outletPower\n",
    "\n",
    "plotHistogram(energyProducedByChargerType.values,[str(power) for power in outletPower],\n",
    "              'Energy produced by outlet power in Copenhagen','Outlet power',\n",
    "             'Energy produced in kWh')"
   ]
  },
  {
   "cell_type": "code",
   "execution_count": 7,
   "id": "intended-musical",
   "metadata": {},
   "outputs": [
    {
     "name": "stdout",
     "output_type": "stream",
     "text": [
      "% of energy provided by each outlet type:\n"
     ]
    },
    {
     "data": {
      "text/plain": [
       "3.7kWhOutletNb     0.0\n",
       "6kWhOutletNb       0.0\n",
       "11kWhOutletNb     86.0\n",
       "22kWhOutletNb      0.0\n",
       "24kWhOutletNb      0.0\n",
       "43kWhOutletNb      4.0\n",
       "50kWhOutletNb      7.0\n",
       "dtype: float64"
      ]
     },
     "execution_count": 7,
     "metadata": {},
     "output_type": "execute_result"
    }
   ],
   "source": [
    "print(\"% of energy provided by each outlet type:\")\n",
    "np.floor(energyProducedByChargerType / energyProducedByChargerType.sum() *100)"
   ]
  },
  {
   "cell_type": "markdown",
   "id": "inside-solomon",
   "metadata": {},
   "source": [
    "86% of the energy is poduced by 11kWh charging stations. (Remember that 22kWh outlets are considered 11kWh outlets as cars can only use 11kWh with AC)\n",
    "Then 7% of the energy is produced by 50kWh outlets.\n",
    "\n",
    "It makes sense as 5/6 of the charging stations are normal charging stations (below 22kWh) and 1/6 corresponds to fast charging stations."
   ]
  },
  {
   "cell_type": "code",
   "execution_count": 52,
   "id": "medical-specialist",
   "metadata": {},
   "outputs": [
    {
     "data": {
      "text/html": [
       "<div>\n",
       "<style scoped>\n",
       "    .dataframe tbody tr th:only-of-type {\n",
       "        vertical-align: middle;\n",
       "    }\n",
       "\n",
       "    .dataframe tbody tr th {\n",
       "        vertical-align: top;\n",
       "    }\n",
       "\n",
       "    .dataframe thead th {\n",
       "        text-align: right;\n",
       "    }\n",
       "</style>\n",
       "<table border=\"1\" class=\"dataframe\">\n",
       "  <thead>\n",
       "    <tr style=\"text-align: right;\">\n",
       "      <th></th>\n",
       "      <th>areaName</th>\n",
       "      <th>name</th>\n",
       "      <th>latitude</th>\n",
       "      <th>longitude</th>\n",
       "      <th>nbOutlets</th>\n",
       "      <th>powerOutlets</th>\n",
       "      <th>supplyByHour</th>\n",
       "    </tr>\n",
       "  </thead>\n",
       "  <tbody>\n",
       "    <tr>\n",
       "      <th>1</th>\n",
       "      <td>Frederiksberg</td>\n",
       "      <td>Frederiksberg Rådhus</td>\n",
       "      <td>55.68</td>\n",
       "      <td>12.53</td>\n",
       "      <td>[2.0]</td>\n",
       "      <td>[11.0]</td>\n",
       "      <td>22</td>\n",
       "    </tr>\n",
       "    <tr>\n",
       "      <th>2</th>\n",
       "      <td>Frederiksberg</td>\n",
       "      <td>Frederiksberg Brandstation</td>\n",
       "      <td>55.68</td>\n",
       "      <td>12.53</td>\n",
       "      <td>[2.0]</td>\n",
       "      <td>[11.0]</td>\n",
       "      <td>22</td>\n",
       "    </tr>\n",
       "    <tr>\n",
       "      <th>3</th>\n",
       "      <td>Frederiksberg</td>\n",
       "      <td>Frederiksberg Hospital</td>\n",
       "      <td>55.69</td>\n",
       "      <td>12.53</td>\n",
       "      <td>[1.0, 1.0, 1.0]</td>\n",
       "      <td>[50.0, 50.0, 43.0]</td>\n",
       "      <td>93</td>\n",
       "    </tr>\n",
       "    <tr>\n",
       "      <th>4</th>\n",
       "      <td>Frederiksberg</td>\n",
       "      <td>Flintholm alle - Frederiksberg</td>\n",
       "      <td>55.68</td>\n",
       "      <td>12.50</td>\n",
       "      <td>[4.0]</td>\n",
       "      <td>[11.0]</td>\n",
       "      <td>44</td>\n",
       "    </tr>\n",
       "    <tr>\n",
       "      <th>5</th>\n",
       "      <td>Frederiksberg</td>\n",
       "      <td>Thurøvej - Frederiksberg</td>\n",
       "      <td>55.68</td>\n",
       "      <td>12.52</td>\n",
       "      <td>[4.0]</td>\n",
       "      <td>[11.0]</td>\n",
       "      <td>44</td>\n",
       "    </tr>\n",
       "  </tbody>\n",
       "</table>\n",
       "</div>"
      ],
      "text/plain": [
       "        areaName                            name  latitude  longitude  \\\n",
       "1  Frederiksberg            Frederiksberg Rådhus     55.68      12.53   \n",
       "2  Frederiksberg      Frederiksberg Brandstation     55.68      12.53   \n",
       "3  Frederiksberg          Frederiksberg Hospital     55.69      12.53   \n",
       "4  Frederiksberg  Flintholm alle - Frederiksberg     55.68      12.50   \n",
       "5  Frederiksberg        Thurøvej - Frederiksberg     55.68      12.52   \n",
       "\n",
       "         nbOutlets        powerOutlets supplyByHour  \n",
       "1            [2.0]              [11.0]           22  \n",
       "2            [2.0]              [11.0]           22  \n",
       "3  [1.0, 1.0, 1.0]  [50.0, 50.0, 43.0]           93  \n",
       "4            [4.0]              [11.0]           44  \n",
       "5            [4.0]              [11.0]           44  "
      ]
     },
     "execution_count": 52,
     "metadata": {},
     "output_type": "execute_result"
    }
   ],
   "source": [
    "#Check if the supply by hour corresponds to the power of outlets and number of outlets\n",
    "#It is worth noticing that only 70% of the total supply can be used\n",
    "df_chargingStations[['areaName','name','latitude','longitude','nbOutlets','powerOutlets','supplyByHour']].head()"
   ]
  },
  {
   "cell_type": "code",
   "execution_count": 53,
   "id": "quarterly-finger",
   "metadata": {},
   "outputs": [
    {
     "name": "stdout",
     "output_type": "stream",
     "text": [
      "Total demand: 1035097.2486765623\n",
      "Total demand as the sum of the demand by hour: 1034990.3461868422\n"
     ]
    }
   ],
   "source": [
    "#Check that the total demand is equal to the sum of demand by hour\n",
    "totalDemand=0\n",
    "for hour in range(24):\n",
    "    totalDemand+= df['demandAt'+str(hour)].sum()\n",
    "    \n",
    "print('Total demand:',df.demand.sum())\n",
    "print('Total demand as the sum of the demand by hour:',totalDemand)"
   ]
  }
 ],
 "metadata": {
  "kernelspec": {
   "display_name": "Python 3",
   "language": "python",
   "name": "python3"
  },
  "language_info": {
   "codemirror_mode": {
    "name": "ipython",
    "version": 3
   },
   "file_extension": ".py",
   "mimetype": "text/x-python",
   "name": "python",
   "nbconvert_exporter": "python",
   "pygments_lexer": "ipython3",
   "version": "3.8.5"
  }
 },
 "nbformat": 4,
 "nbformat_minor": 5
}
